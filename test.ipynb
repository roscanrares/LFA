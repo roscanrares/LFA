{
 "cells": [
  {
   "cell_type": "code",
   "execution_count": 3,
   "id": "initial_id",
   "metadata": {
    "collapsed": true,
    "ExecuteTime": {
     "end_time": "2024-06-09T11:15:24.614736Z",
     "start_time": "2024-06-09T11:15:24.606306Z"
    }
   },
   "outputs": [],
   "source": [
    "%run validator.py\n",
    "from validator import Validation\n",
    "# nu stiu de ce, dar daca nu import functia nu merge la nfa, la dfa merge oricum, dar la nfa nu merge daca doar rulez scriptul...\n",
    "%run dfa.py\n",
    "%run nfa.py\n",
    "from validation_dfa import DFAValidator\n",
    "from validation_nfa import NFAValidator"
   ]
  },
  {
   "cell_type": "code",
   "outputs": [
    {
     "name": "stdout",
     "output_type": "stream",
     "text": [
      "True\n"
     ]
    }
   ],
   "source": [
    "input = Validation(\"dfa_example.txt\")\n",
    "input.run()\n",
    "validation = DFAValidator(input)\n",
    " \n",
    "sigma = input.sigma\n",
    "states = list(input.states)\n",
    "transitions = input.transitions\n",
    "starting_state = input.starting_state\n",
    "final_states = input.final_states\n",
    "\n",
    "# print(\"Sigma: \", sigma, \"\\nStates: \", states, \"\\nTransitions: \", transitions, \"\\nStarting state: \", starting_state, \"\\nFinal states: \", final_states, \"\\n\")\n",
    "\n",
    "dfa = DFA(sigma, states, transitions, starting_state, final_states)\n",
    "\n",
    "print(dfa.run(\"ab\"))"
   ],
   "metadata": {
    "collapsed": false,
    "ExecuteTime": {
     "end_time": "2024-06-09T11:15:02.737795Z",
     "start_time": "2024-06-09T11:15:02.731779Z"
    }
   },
   "id": "6db3b2e15d324f82",
   "execution_count": 2
  },
  {
   "cell_type": "markdown",
   "source": [],
   "metadata": {
    "collapsed": false
   },
   "id": "1594de6bdb947361"
  },
  {
   "cell_type": "code",
   "outputs": [
    {
     "name": "stdout",
     "output_type": "stream",
     "text": [
      "Validation successful\n",
      "True\n"
     ]
    }
   ],
   "source": [
    "input = Validation('nfa_example.txt')\n",
    "input.run()\n",
    "validation = NFAValidator(input)\n",
    "\n",
    "sigma = input.sigma\n",
    "states = list(input.states)\n",
    "transitions = input.transitions\n",
    "starting_state = input.starting_state\n",
    "final_states = input.final_states\n",
    "\n",
    "# print(\"Sigma: \", sigma, \"\\nStates: \", states, \"\\nTransitions: \", transitions, \"\\nStarting state: \", starting_state, \"\\nFinal states: \", final_states, \"\\n\")\n",
    "\n",
    "\n",
    "nfa = NFA(sigma, states, transitions, starting_state, final_states)\n",
    "\n",
    "symbol_sequence = ['a']\n",
    "print (nfa.run('a'))"
   ],
   "metadata": {
    "collapsed": false,
    "ExecuteTime": {
     "end_time": "2024-06-09T11:15:58.616783Z",
     "start_time": "2024-06-09T11:15:58.613559Z"
    }
   },
   "id": "c0f369d264168ff2",
   "execution_count": 6
  },
  {
   "cell_type": "code",
   "outputs": [],
   "source": [],
   "metadata": {
    "collapsed": false
   },
   "id": "a6a1731bc852e671"
  }
 ],
 "metadata": {
  "kernelspec": {
   "display_name": "Python 3",
   "language": "python",
   "name": "python3"
  },
  "language_info": {
   "codemirror_mode": {
    "name": "ipython",
    "version": 2
   },
   "file_extension": ".py",
   "mimetype": "text/x-python",
   "name": "python",
   "nbconvert_exporter": "python",
   "pygments_lexer": "ipython2",
   "version": "2.7.6"
  }
 },
 "nbformat": 4,
 "nbformat_minor": 5
}
